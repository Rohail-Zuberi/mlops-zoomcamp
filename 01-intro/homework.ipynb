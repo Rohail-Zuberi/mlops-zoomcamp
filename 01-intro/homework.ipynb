{
 "cells": [
  {
   "cell_type": "code",
   "execution_count": 1,
   "id": "2ad6e132",
   "metadata": {},
   "outputs": [],
   "source": [
    "import pandas as pd"
   ]
  },
  {
   "cell_type": "code",
   "execution_count": 3,
   "id": "ee1e83a1",
   "metadata": {},
   "outputs": [],
   "source": [
    "from sklearn.feature_extraction import DictVectorizer\n",
    "from sklearn.linear_model import LinearRegression\n",
    "\n",
    "from sklearn.metrics import mean_squared_error"
   ]
  },
  {
   "cell_type": "code",
   "execution_count": 4,
   "id": "b7607fec",
   "metadata": {},
   "outputs": [],
   "source": [
    "def load_and_preprocess_data(url, categorical):\n",
    "    df = pd.read_parquet(url)\n",
    "    df[\"duration\"] = df.tpep_dropoff_datetime - df.tpep_pickup_datetime\n",
    "    df.duration = df.duration.apply(lambda td: td.total_seconds() / 60)\n",
    "    df = df[(df.duration >= 1) & (df.duration <= 60)]\n",
    "    df[categorical] = df[categorical].astype(str)\n",
    "    return df"
   ]
  },
  {
   "cell_type": "code",
   "execution_count": 5,
   "id": "7ab00d9a",
   "metadata": {},
   "outputs": [],
   "source": [
    "def prepare_features(df, categorical):\n",
    "    dicts = df[categorical].to_dict(orient=\"records\")\n",
    "    return dicts"
   ]
  },
  {
   "cell_type": "code",
   "execution_count": 6,
   "id": "92d890a2",
   "metadata": {},
   "outputs": [],
   "source": [
    "def train_model(x_train, y_train):\n",
    "    model = LinearRegression()\n",
    "    model.fit(x_train, y_train)\n",
    "    return model"
   ]
  },
  {
   "cell_type": "code",
   "execution_count": 7,
   "id": "b527a42c",
   "metadata": {},
   "outputs": [],
   "source": [
    "def evaluate_model(model, x, y):\n",
    "    y_pred = model.predict(x)\n",
    "    rmse = mean_squared_error(y, y_pred, squared=False)\n",
    "    return rmse"
   ]
  },
  {
   "cell_type": "code",
   "execution_count": 8,
   "id": "00646930",
   "metadata": {},
   "outputs": [
    {
     "name": "stdout",
     "output_type": "stream",
     "text": [
      "Training RMSE: 7.6492610279057605\n",
      "Validation RMSE: 7.81183265470218\n"
     ]
    }
   ],
   "source": [
    "train_url = \"https://d37ci6vzurychx.cloudfront.net/trip-data/yellow_tripdata_2023-01.parquet\"\n",
    "val_url = \"https://d37ci6vzurychx.cloudfront.net/trip-data/yellow_tripdata_2023-02.parquet\"\n",
    "categorical = [\"PULocationID\", \"DOLocationID\"]\n",
    "target = \"duration\"\n",
    "\n",
    "# Load and preprocess training data\n",
    "train_df = load_and_preprocess_data(train_url, categorical)\n",
    "train_dicts = prepare_features(train_df, categorical)\n",
    "\n",
    "# Vectorize features\n",
    "dv = DictVectorizer()\n",
    "x_train = dv.fit_transform(train_dicts)\n",
    "y_train = train_df[target].values\n",
    "\n",
    "# Train model\n",
    "model = train_model(x_train, y_train)\n",
    "\n",
    "# Evaluate on training data\n",
    "train_rmse = evaluate_model(model, x_train, y_train)\n",
    "print(f\"Training RMSE: {train_rmse}\")\n",
    "\n",
    "# Load and preprocess validation data\n",
    "val_df = load_and_preprocess_data(val_url, categorical)\n",
    "val_dicts = prepare_features(val_df, categorical)\n",
    "\n",
    "# Vectorize validation features\n",
    "x_val = dv.transform(val_dicts)\n",
    "y_val = val_df[target].values\n",
    "\n",
    "# Evaluate on validation data\n",
    "val_rmse = evaluate_model(model, x_val, y_val)\n",
    "print(f\"Validation RMSE: {val_rmse}\")"
   ]
  }
 ],
 "metadata": {
  "kernelspec": {
   "display_name": "Python 3 (ipykernel)",
   "language": "python",
   "name": "python3"
  },
  "language_info": {
   "codemirror_mode": {
    "name": "ipython",
    "version": 3
   },
   "file_extension": ".py",
   "mimetype": "text/x-python",
   "name": "python",
   "nbconvert_exporter": "python",
   "pygments_lexer": "ipython3",
   "version": "3.9.12"
  }
 },
 "nbformat": 4,
 "nbformat_minor": 5
}
